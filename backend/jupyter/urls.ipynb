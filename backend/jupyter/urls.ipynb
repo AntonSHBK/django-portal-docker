{
 "cells": [
  {
   "cell_type": "code",
   "execution_count": null,
   "metadata": {},
   "outputs": [],
   "source": [
    "from django.urls import reverse\n"
   ]
  },
  {
   "cell_type": "code",
   "execution_count": 2,
   "metadata": {},
   "outputs": [
    {
     "name": "stdout",
     "output_type": "stream",
     "text": [
      "/blog/all_authors/\n"
     ]
    }
   ],
   "source": [
    "def get_detail_url():\n",
    "    pk = 5000\n",
    "    path = '/lol/'\n",
    "    erid = 1488\n",
    "    \n",
    "    kwargs_dict = {'pk': pk}\n",
    "\n",
    "    # return reverse( viewname='blog:publication_detail', kwargs={'username': 'root'})\n",
    "    return reverse(viewname='blog:all-authors')\n",
    "    # return reverse( viewname='blog:lol', kwargs={'username': 'root'})\n",
    "print(get_detail_url())"
   ]
  }
 ],
 "metadata": {
  "kernelspec": {
   "display_name": "Django Shell-Plus",
   "language": "python",
   "name": "django_extensions"
  }
 },
 "nbformat": 4,
 "nbformat_minor": 2
}

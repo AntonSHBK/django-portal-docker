{
 "cells": [
  {
   "cell_type": "code",
   "execution_count": 1,
   "id": "424ef341",
   "metadata": {},
   "outputs": [
    {
     "ename": "ModuleNotFoundError",
     "evalue": "No module named 'app'",
     "output_type": "error",
     "traceback": [
      "\u001b[0;31m---------------------------------------------------------------------------\u001b[0m",
      "\u001b[0;31mModuleNotFoundError\u001b[0m                       Traceback (most recent call last)",
      "Cell \u001b[0;32mIn[1], line 1\u001b[0m\n\u001b[0;32m----> 1\u001b[0m \u001b[39mfrom\u001b[39;00m \u001b[39mapp\u001b[39;00m\u001b[39m.\u001b[39;00m\u001b[39mmodels\u001b[39;00m \u001b[39mimport\u001b[39;00m Blog\n",
      "\u001b[0;31mModuleNotFoundError\u001b[0m: No module named 'app'"
     ]
    }
   ],
   "source": [
    "from blog.models import blog"
   ]
  },
  {
   "cell_type": "code",
   "execution_count": null,
   "id": "5396e56c",
   "metadata": {},
   "outputs": [],
   "source": [
    "# new_article = Blog.objects.create(name=\"Anton\")\n"
   ]
  },
  {
   "cell_type": "code",
   "execution_count": null,
   "id": "6535cca6",
   "metadata": {},
   "outputs": [],
   "source": [
    "# print('Hello')"
   ]
  },
  {
   "cell_type": "code",
   "execution_count": null,
   "id": "c1643cf2",
   "metadata": {},
   "outputs": [],
   "source": [
    "print(type(blog))"
   ]
  }
 ],
 "metadata": {
  "kernelspec": {
   "display_name": "Django Shell-Plus",
   "language": "python",
   "name": "django_extensions"
  },
  "language_info": {
   "codemirror_mode": {
    "name": "ipython",
    "version": 3
   },
   "file_extension": ".py",
   "mimetype": "text/x-python",
   "name": "python",
   "nbconvert_exporter": "python",
   "pygments_lexer": "ipython3",
   "version": "3.9.6"
  }
 },
 "nbformat": 4,
 "nbformat_minor": 5
}

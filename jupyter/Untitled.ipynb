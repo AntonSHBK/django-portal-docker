{
 "cells": [
  {
   "cell_type": "code",
   "execution_count": 11,
   "id": "424ef341",
   "metadata": {},
   "outputs": [],
   "source": [
    "from app.models import Blog"
   ]
  },
  {
   "cell_type": "code",
   "execution_count": 12,
   "id": "5396e56c",
   "metadata": {},
   "outputs": [],
   "source": [
    "new_article = Blog.objects.create(name=\"Anton\")\n"
   ]
  },
  {
   "cell_type": "code",
   "execution_count": 13,
   "id": "6535cca6",
   "metadata": {},
   "outputs": [],
   "source": [
    "print('Hello')"
   ]
  },
  {
   "cell_type": "code",
   "execution_count": null,
   "id": "c1643cf2",
   "metadata": {},
   "outputs": [],
   "source": [
    "Blog.jbjects.all()"
   ]
  }
 ],
 "metadata": {
  "kernelspec": {
   "display_name": "Django Shell-Plus",
   "language": "python",
   "name": "django_extensions"
  },
  "language_info": {
   "codemirror_mode": {
    "name": "ipython",
    "version": 3
   },
   "file_extension": ".py",
   "mimetype": "text/x-python",
   "name": "python",
   "nbconvert_exporter": "python",
   "pygments_lexer": "ipython3",
   "version": "3.9.6"
  }
 },
 "nbformat": 4,
 "nbformat_minor": 5
}

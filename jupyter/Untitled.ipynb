{
 "cells": [
  {
   "cell_type": "code",
   "execution_count": null,
   "id": "424ef341",
   "metadata": {},
   "outputs": [],
   "source": [
    "from blog.models import Blog"
   ]
  },
  {
   "cell_type": "code",
   "execution_count": null,
   "id": "5396e56c",
   "metadata": {},
   "outputs": [],
   "source": [
    "new_article = Blog.objects.create(name=\"Anton\")\n"
   ]
  },
  {
   "cell_type": "code",
   "execution_count": null,
   "id": "c1643cf2",
   "metadata": {},
   "outputs": [],
   "source": [
    "print(type(Blog))"
   ]
  },
  {
   "cell_type": "code",
   "execution_count": null,
   "id": "0ccef72a",
   "metadata": {},
   "outputs": [],
   "source": []
  }
 ],
 "metadata": {
  "kernelspec": {
   "display_name": "Django Shell-Plus",
   "language": "python",
   "name": "django_extensions"
  }
 },
 "nbformat": 4,
 "nbformat_minor": 5
}
